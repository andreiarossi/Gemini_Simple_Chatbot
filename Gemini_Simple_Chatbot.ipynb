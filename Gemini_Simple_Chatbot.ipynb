{
  "nbformat": 4,
  "nbformat_minor": 0,
  "metadata": {
    "colab": {
      "provenance": [],
      "authorship_tag": "ABX9TyOfi2tQ5vi9nxWwDEmdVWYZ",
      "include_colab_link": true
    },
    "kernelspec": {
      "name": "python3",
      "display_name": "Python 3"
    },
    "language_info": {
      "name": "python"
    }
  },
  "cells": [
    {
      "cell_type": "markdown",
      "metadata": {
        "id": "view-in-github",
        "colab_type": "text"
      },
      "source": [
        "<a href=\"https://colab.research.google.com/github/andreiarossi/Gemini_Simple_Chatbot/blob/main/Gemini_Simple_Chatbot.ipynb\" target=\"_parent\"><img src=\"https://colab.research.google.com/assets/colab-badge.svg\" alt=\"Open In Colab\"/></a>"
      ]
    },
    {
      "cell_type": "markdown",
      "source": [
        "**Installing Google SKD **\n",
        "\n",
        "\n"
      ],
      "metadata": {
        "id": "2qrcJm2hAISO"
      }
    },
    {
      "cell_type": "code",
      "execution_count": 3,
      "metadata": {
        "id": "PqPm7qep4K_1"
      },
      "outputs": [],
      "source": [
        "!pip install -q -U google-generativeai"
      ]
    },
    {
      "cell_type": "markdown",
      "source": [
        "**Import Generative AI **"
      ],
      "metadata": {
        "id": "8w9MseyLBIf3"
      }
    },
    {
      "cell_type": "code",
      "source": [
        "# Import the Python SDK\n",
        "import google.generativeai as genai\n",
        "# Used to securely store your API key\n",
        "from google.colab import userdata\n",
        "api_key = userdata.get('SECRET_KEY')\n",
        "genai.configure(api_key=api_key)"
      ],
      "metadata": {
        "id": "a_gG14gtATnt"
      },
      "execution_count": 6,
      "outputs": []
    },
    {
      "cell_type": "markdown",
      "source": [
        "**Avaiable Models List (just to check!)**"
      ],
      "metadata": {
        "id": "6pWqQTktBAwp"
      }
    },
    {
      "cell_type": "code",
      "source": [
        "for m in genai.list_models():\n",
        "  if 'generateContent' in m.supported_generation_methods:\n",
        "    print(m.name)"
      ],
      "metadata": {
        "colab": {
          "base_uri": "https://localhost:8080/",
          "height": 139
        },
        "id": "zTIqNqFUA7dy",
        "outputId": "6336778e-ad21-4370-f939-953922c3a37e"
      },
      "execution_count": 18,
      "outputs": [
        {
          "output_type": "stream",
          "name": "stdout",
          "text": [
            "models/gemini-1.0-pro\n",
            "models/gemini-1.0-pro-001\n",
            "models/gemini-1.0-pro-latest\n",
            "models/gemini-1.0-pro-vision-latest\n",
            "models/gemini-1.5-pro-latest\n",
            "models/gemini-pro\n",
            "models/gemini-pro-vision\n"
          ]
        }
      ]
    },
    {
      "cell_type": "markdown",
      "source": [
        "**Insert parameters**"
      ],
      "metadata": {
        "id": "W2mN-vO-D4zB"
      }
    },
    {
      "cell_type": "code",
      "source": [
        "generation_config = {\n",
        "    \"candidate_count\":1,\n",
        "    \"temperature\": 0.5,\n",
        "}"
      ],
      "metadata": {
        "id": "3j8Xki5MDpV6"
      },
      "execution_count": 19,
      "outputs": []
    },
    {
      "cell_type": "markdown",
      "source": [
        "**Safety Settings (optional)**"
      ],
      "metadata": {
        "id": "5c3ObRtKERTl"
      }
    },
    {
      "cell_type": "code",
      "source": [
        "safety_settings ={\n",
        "    \"harassment\": \"block_none\",\n",
        "    \"hate\": \"block_none\",\n",
        "    \"sexual\": \"block_none\",\n",
        "    \"dangerous\": \"block_none\",\n",
        "}"
      ],
      "metadata": {
        "id": "bfHD935DEPDv"
      },
      "execution_count": 20,
      "outputs": []
    },
    {
      "cell_type": "code",
      "source": [],
      "metadata": {
        "id": "LD5pMn6dE_Gk"
      },
      "execution_count": null,
      "outputs": []
    },
    {
      "cell_type": "markdown",
      "source": [
        "**Model Starting....**"
      ],
      "metadata": {
        "id": "xDLx12u8FVgg"
      }
    },
    {
      "cell_type": "code",
      "source": [
        "model = genai.GenerativeModel(model_name=\"gemini-1.0-pro\",\n",
        "                              generation_config=generation_config,\n",
        "                              safety_settings=safety_settings\n",
        "                              )"
      ],
      "metadata": {
        "id": "FtmYyJ_zFdzS"
      },
      "execution_count": 21,
      "outputs": []
    },
    {
      "cell_type": "markdown",
      "source": [
        "**Responses**\n"
      ],
      "metadata": {
        "id": "WvKS1zBUGUK4"
      }
    },
    {
      "cell_type": "code",
      "source": [
        "response = model.generate_content(\"Escreva sobre a Fatec Carapicuíba.\")\n",
        "print(response.text)"
      ],
      "metadata": {
        "id": "n64gGZeCGTJq"
      },
      "execution_count": null,
      "outputs": []
    },
    {
      "cell_type": "markdown",
      "source": [
        "***BUILDING THE CHATBOT**"
      ],
      "metadata": {
        "id": "-bKKgL-lHDSj"
      }
    },
    {
      "cell_type": "code",
      "source": [
        "chat = model.start_chat(history=[])"
      ],
      "metadata": {
        "id": "Hvf1O-CvHBJJ"
      },
      "execution_count": 24,
      "outputs": []
    },
    {
      "cell_type": "code",
      "source": [
        "prompt = input(\"Waiting the prompt...\")\n",
        "print(\"Your question was: \", \"\\n\\n\",prompt, \"\\n\\n\")\n",
        "\n",
        "while prompt != \"end\":\n",
        "  response = chat.send_message(prompt)\n",
        "  print(\"Response: \",\"\\n\\n\", response.text, \"\\n\\n\")\n",
        "  prompt = input(\"Waiting the new prompt...\")\n"
      ],
      "metadata": {
        "id": "BpUGjaNOFWRJ"
      },
      "execution_count": null,
      "outputs": []
    },
    {
      "cell_type": "code",
      "source": [],
      "metadata": {
        "id": "eMbHJT59XZ-H"
      },
      "execution_count": 37,
      "outputs": []
    }
  ]
}